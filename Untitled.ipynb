{
 "cells": [
  {
   "cell_type": "markdown",
   "id": "00e3b5e1",
   "metadata": {},
   "source": [
    "# Creador de carpetas"
   ]
  },
  {
   "cell_type": "code",
   "execution_count": 9,
   "id": "b3282d17",
   "metadata": {
    "scrolled": true
   },
   "outputs": [
    {
     "name": "stdout",
     "output_type": "stream",
     "text": [
      "Todas las carpetas han sido creadas.\n"
     ]
    }
   ],
   "source": [
    "'''(3)'''\n",
    "import os\n",
    "\n",
    "# Definir las variables\n",
    "N = 8  # Número de carpetas\n",
    "ruta = r\"C:\\Users\\pc\\Documents\\Carpetas creadas\"  # Ruta donde se crearán las carpetas\n",
    "nombre = \"Clase\"  # Nombre base de las carpetas\n",
    "i = 9  # Número desde el cual inicia la numeración\n",
    "\n",
    "# Verificar si la ruta existe, si no, crearla\n",
    "if not os.path.exists(ruta):\n",
    "    os.makedirs(ruta)\n",
    "\n",
    "# Crear las carpetas\n",
    "for numero in range(i, i + N):\n",
    "    nombre_carpeta = f\"{nombre} {numero}\"\n",
    "    carpeta_path = os.path.join(ruta, nombre_carpeta)\n",
    "\n",
    "    # Verificar si la carpeta ya existe antes de crearla\n",
    "    if not os.path.exists(carpeta_path):\n",
    "        os.makedirs(carpeta_path)\n",
    "        print(f\"Creada carpeta: {nombre_carpeta}\")\n",
    "\n",
    "print(\"Todas las carpetas han sido creadas.\")\n"
   ]
  },
  {
   "cell_type": "markdown",
   "id": "94a01386",
   "metadata": {},
   "source": [
    "# Vaciar B - Copiar A en B"
   ]
  },
  {
   "cell_type": "code",
   "execution_count": 2,
   "id": "f9955f2c",
   "metadata": {},
   "outputs": [
    {
     "name": "stdout",
     "output_type": "stream",
     "text": [
      "Se copiaron los elementos de 'C:\\Users\\pc\\Documents\\Carpeta copia para pruebas erróneas 2' a 'C:\\Users\\pc\\Documents\\Clasificador de nombres' con éxito.\n"
     ]
    }
   ],
   "source": [
    "import shutil\n",
    "\n",
    "def copiar_contenido_de_carpeta(origen, destino):\n",
    "    try:\n",
    "        # Vaciar la carpeta de destino si ya existe\n",
    "        shutil.rmtree(destino)\n",
    "        \n",
    "        # Copiar el contenido de la carpeta de origen a la carpeta de destino\n",
    "        shutil.copytree(origen, destino)\n",
    "        \n",
    "        print(f\"Se copiaron los elementos de '{origen}' a '{destino}' con éxito.\")\n",
    "    except Exception as e:\n",
    "        print(f\"Error al copiar los elementos: {e}\")\n",
    "\n",
    "if __name__ == \"__main__\":\n",
    "    carpeta_origen = r'C:\\Users\\pc\\Documents\\Carpeta copia para pruebas erróneas 2'\n",
    "    carpeta_destino =  r\"C:\\Users\\pc\\Documents\\Clasificador de nombres\"\n",
    "\n",
    "    copiar_contenido_de_carpeta(carpeta_origen, carpeta_destino)\n"
   ]
  },
  {
   "cell_type": "markdown",
   "id": "9cd6f412",
   "metadata": {},
   "source": [
    "# Clasificador por nombres"
   ]
  },
  {
   "cell_type": "code",
   "execution_count": 1,
   "id": "63623d9a",
   "metadata": {},
   "outputs": [
    {
     "ename": "FileExistsError",
     "evalue": "[WinError 183] No se puede crear un archivo que ya existe: 'C:\\\\Users\\\\pc\\\\Documents\\\\Clasificador de nombres\\\\bici1.jpg'",
     "output_type": "error",
     "traceback": [
      "\u001b[1;31m---------------------------------------------------------------------------\u001b[0m",
      "\u001b[1;31mFileExistsError\u001b[0m                           Traceback (most recent call last)",
      "Cell \u001b[1;32mIn[1], line 26\u001b[0m\n\u001b[0;32m     23\u001b[0m     shutil\u001b[38;5;241m.\u001b[39mmove(os\u001b[38;5;241m.\u001b[39mpath\u001b[38;5;241m.\u001b[39mjoin(directorio, archivo), os\u001b[38;5;241m.\u001b[39mpath\u001b[38;5;241m.\u001b[39mjoin(directorio, nombre_comun, archivo))\n\u001b[0;32m     24\u001b[0m \u001b[38;5;28;01melse\u001b[39;00m:\n\u001b[0;32m     25\u001b[0m     \u001b[38;5;66;03m# Crear una carpeta para el \"nombre común\" y mover el archivo\u001b[39;00m\n\u001b[1;32m---> 26\u001b[0m     \u001b[43mos\u001b[49m\u001b[38;5;241;43m.\u001b[39;49m\u001b[43mmakedirs\u001b[49m\u001b[43m(\u001b[49m\u001b[43mos\u001b[49m\u001b[38;5;241;43m.\u001b[39;49m\u001b[43mpath\u001b[49m\u001b[38;5;241;43m.\u001b[39;49m\u001b[43mjoin\u001b[49m\u001b[43m(\u001b[49m\u001b[43mdirectorio\u001b[49m\u001b[43m,\u001b[49m\u001b[43m \u001b[49m\u001b[43mnombre_comun\u001b[49m\u001b[43m)\u001b[49m\u001b[43m)\u001b[49m\n\u001b[0;32m     27\u001b[0m     shutil\u001b[38;5;241m.\u001b[39mmove(os\u001b[38;5;241m.\u001b[39mpath\u001b[38;5;241m.\u001b[39mjoin(directorio, archivo), os\u001b[38;5;241m.\u001b[39mpath\u001b[38;5;241m.\u001b[39mjoin(directorio, nombre_comun, archivo))\n\u001b[0;32m     28\u001b[0m \u001b[38;5;66;03m# Actualizar el diccionario\u001b[39;00m\n",
      "File \u001b[1;32m~\\anaconda3\\lib\\os.py:225\u001b[0m, in \u001b[0;36mmakedirs\u001b[1;34m(name, mode, exist_ok)\u001b[0m\n\u001b[0;32m    223\u001b[0m         \u001b[38;5;28;01mreturn\u001b[39;00m\n\u001b[0;32m    224\u001b[0m \u001b[38;5;28;01mtry\u001b[39;00m:\n\u001b[1;32m--> 225\u001b[0m     \u001b[43mmkdir\u001b[49m\u001b[43m(\u001b[49m\u001b[43mname\u001b[49m\u001b[43m,\u001b[49m\u001b[43m \u001b[49m\u001b[43mmode\u001b[49m\u001b[43m)\u001b[49m\n\u001b[0;32m    226\u001b[0m \u001b[38;5;28;01mexcept\u001b[39;00m \u001b[38;5;167;01mOSError\u001b[39;00m:\n\u001b[0;32m    227\u001b[0m     \u001b[38;5;66;03m# Cannot rely on checking for EEXIST, since the operating system\u001b[39;00m\n\u001b[0;32m    228\u001b[0m     \u001b[38;5;66;03m# could give priority to other errors like EACCES or EROFS\u001b[39;00m\n\u001b[0;32m    229\u001b[0m     \u001b[38;5;28;01mif\u001b[39;00m \u001b[38;5;129;01mnot\u001b[39;00m exist_ok \u001b[38;5;129;01mor\u001b[39;00m \u001b[38;5;129;01mnot\u001b[39;00m path\u001b[38;5;241m.\u001b[39misdir(name):\n",
      "\u001b[1;31mFileExistsError\u001b[0m: [WinError 183] No se puede crear un archivo que ya existe: 'C:\\\\Users\\\\pc\\\\Documents\\\\Clasificador de nombres\\\\bici1.jpg'"
     ]
    }
   ],
   "source": [
    "import os\n",
    "import shutil\n",
    "\n",
    "# Directorio donde se encuentran los archivos\n",
    "directorio = r\"C:\\Users\\pc\\Documents\\Clasificador de nombres\"\n",
    "\n",
    "# Obtener la lista de archivos en el directorio\n",
    "archivos = os.listdir(directorio)\n",
    "\n",
    "# Crear un diccionario para organizar los archivos por \"nombre común\"\n",
    "organizador = {}\n",
    "\n",
    "# Iterar sobre la lista de archivos\n",
    "for archivo in archivos:\n",
    "    # Separar el nombre del archivo en palabras\n",
    "    partes = archivo.split()\n",
    "    if partes:\n",
    "        # Tomar la primera palabra como \"nombre común\"\n",
    "        nombre_comun = partes[0]\n",
    "        # Verificar si ya existe una carpeta para ese \"nombre común\"\n",
    "        if nombre_comun in organizador:\n",
    "            # Mover el archivo a la carpeta correspondiente\n",
    "            shutil.move(os.path.join(directorio, archivo), os.path.join(directorio, nombre_comun, archivo))\n",
    "        else:\n",
    "            # Crear una carpeta para el \"nombre común\" y mover el archivo\n",
    "            os.makedirs(os.path.join(directorio, nombre_comun))\n",
    "            shutil.move(os.path.join(directorio, archivo), os.path.join(directorio, nombre_comun, archivo))\n",
    "        # Actualizar el diccionario\n",
    "        organizador[nombre_comun] = True\n",
    "\n",
    "print(\"Archivos organizados en carpetas.\")"
   ]
  },
  {
   "cell_type": "code",
   "execution_count": null,
   "id": "dcb4a3f1",
   "metadata": {},
   "outputs": [],
   "source": [
    "10"
   ]
  },
  {
   "cell_type": "code",
   "execution_count": 2,
   "id": "bf2d345a",
   "metadata": {},
   "outputs": [
    {
     "name": "stdout",
     "output_type": "stream",
     "text": [
      "Archivos organizados en carpetas.\n"
     ]
    }
   ],
   "source": [
    "'''No recuerdo que hace, pero este código aún bota errores'''\n",
    "import os\n",
    "import shutil\n",
    "import re\n",
    "import tempfile\n",
    "\n",
    "# Directorio donde se encuentran los archivos\n",
    "directorio = r\"C:\\Users\\pc\\Documents\\Clasificador de nombres\"\n",
    "\n",
    "# Obtener la lista de archivos en el directorio\n",
    "archivos = os.listdir(directorio)\n",
    "\n",
    "# Crear un diccionario para organizar los archivos por \"nombre común\"\n",
    "organizador = {}\n",
    "\n",
    "# Definir una expresión regular para permitir solo caracteres alfabéticos y algunos especiales\n",
    "patron = r'^[a-zA-ZáéíóúüÁÉÍÓÚÜ0-9_.,;\\/\\-]+$'\n",
    "\n",
    "# Crear un directorio temporal en una ubicación conocida\n",
    "directorio_temporal = os.path.join(directorio, \"temporal_directory\")\n",
    "\n",
    "if not os.path.exists(directorio_temporal):\n",
    "    os.makedirs(directorio_temporal)\n",
    "\n",
    "# Iterar sobre la lista de archivos\n",
    "for archivo in archivos:\n",
    "    # Tomar el \"nombre común\" utilizando la expresión regular\n",
    "    coincidencia = re.match(patron, archivo)\n",
    "    if coincidencia:\n",
    "        nombre_comun = coincidencia.group()\n",
    "        \n",
    "        # Verificar si ya existe una carpeta para ese \"nombre común\"\n",
    "        if nombre_comun in organizador:\n",
    "            contador = 1\n",
    "            carpeta_path = os.path.join(directorio_temporal, f\"{nombre_comun}_{contador}\")\n",
    "            while os.path.exists(carpeta_path):\n",
    "                contador += 1\n",
    "                carpeta_path = os.path.join(directorio_temporal, f\"{nombre_comun}_{contador}\")\n",
    "        else:\n",
    "            carpeta_path = os.path.join(directorio_temporal, nombre_comun)\n",
    "            organizador[nombre_comun] = True\n",
    "            \n",
    "        # Verificar si la carpeta ya existe antes de crearla\n",
    "        if not os.path.exists(carpeta_path):\n",
    "            os.makedirs(carpeta_path)\n",
    "        \n",
    "        # Mover el archivo al directorio temporal\n",
    "        shutil.move(os.path.join(directorio, archivo), os.path.join(carpeta_path, archivo))\n",
    "\n",
    "# Mover los archivos nuevamente a su ubicación original desde el directorio temporal\n",
    "for root, _, files in os.walk(directorio_temporal):\n",
    "    for file in files:\n",
    "        shutil.move(os.path.join(root, file), os.path.join(directorio, file))\n",
    "\n",
    "# Eliminar el directorio temporal\n",
    "shutil.rmtree(directorio_temporal)\n",
    "\n",
    "print(\"Archivos organizados en carpetas.\")\n"
   ]
  },
  {
   "cell_type": "code",
   "execution_count": 1,
   "id": "7b76d5a6",
   "metadata": {},
   "outputs": [
    {
     "name": "stdout",
     "output_type": "stream",
     "text": [
      "Archivos organizados en carpetas.\n"
     ]
    }
   ],
   "source": [
    "'''(11 - v2 de uno especifico)\n",
    "Está metiendo a bici1 y bici2 en carpetas individuales\n",
    "Es como separar por singletones jajaja'''\n",
    "import os\n",
    "import shutil\n",
    "import re\n",
    "\n",
    "# Directorio donde se encuentran los archivos\n",
    "directorio = r\"C:\\Users\\pc\\Documents\\Clasificador de nombres\"\n",
    "\n",
    "# Obtener la lista de archivos en el directorio\n",
    "archivos = os.listdir(directorio)\n",
    "\n",
    "# Crear un diccionario para organizar los archivos por \"nombre común\"\n",
    "organizador = {}\n",
    "\n",
    "# Definir una expresión regular para permitir solo caracteres alfabéticos y algunos especiales\n",
    "patron = r'^[a-zA-ZáéíóúüÁÉÍÓÚÜ0-9_.,;\\/\\- +]'\n",
    "\n",
    "# Iterar sobre la lista de archivos\n",
    "for archivo in archivos:\n",
    "    # Tomar el \"nombre común\" utilizando la expresión regular\n",
    "    coincidencia = re.match(patron, archivo)\n",
    "    if coincidencia:\n",
    "        nombre_comun = re.split(r'[_.;,/\\-]', coincidencia.group())[0]        \n",
    "        # Verificar si ya existe una carpeta para ese \"nombre común\"\n",
    "        if nombre_comun in organizador:\n",
    "            contador = 1\n",
    "            carpeta_path = os.path.join(directorio, f\"{nombre_comun}_{contador}\")\n",
    "            while os.path.exists(carpeta_path):\n",
    "                contador += 1\n",
    "                carpeta_path = os.path.join(directorio, f\"{nombre_comun}_{contador}\")\n",
    "        else:\n",
    "            carpeta_path = os.path.join(directorio, nombre_comun)\n",
    "            organizador[nombre_comun] = True\n",
    "            \n",
    "        # Verificar si la carpeta ya existe antes de crearla\n",
    "        if not os.path.exists(carpeta_path):\n",
    "            os.makedirs(carpeta_path)\n",
    "        \n",
    "        # Copiar el archivo a la carpeta correspondiente\n",
    "        shutil.copy(os.path.join(directorio, archivo), os.path.join(carpeta_path, archivo))\n",
    "        \n",
    "        # Eliminar el archivo original\n",
    "        os.remove(os.path.join(directorio, archivo))\n",
    "\n",
    "print(\"Archivos organizados en carpetas.\")\n",
    "\n"
   ]
  },
  {
   "cell_type": "markdown",
   "id": "e6b190b8",
   "metadata": {},
   "source": [
    "Mi propio intento"
   ]
  },
  {
   "cell_type": "code",
   "execution_count": 17,
   "id": "ff7042ff",
   "metadata": {},
   "outputs": [
    {
     "name": "stdout",
     "output_type": "stream",
     "text": [
      "5 bici.jpeg  es coincidencia / El  nombre común se definió como:  5\n",
      "5  ha sido agregado a \"organizador\"\n",
      "La carpeta  C:\\Users\\pc\\Documents\\Clasificador de nombres\\5  no existía, pero ya fue creada (else)\n",
      "5 moto.jpg  es coincidencia / El  nombre común se definió como:  5\n",
      "5  YA existe en \"organizador\"\n",
      "bici 1.jpg  es coincidencia / El  nombre común se definió como:  b\n",
      "b  ha sido agregado a \"organizador\"\n",
      "La carpeta  C:\\Users\\pc\\Documents\\Clasificador de nombres\\b  no existía, pero ya fue creada (else)\n",
      "bici+4.jpg  es coincidencia / El  nombre común se definió como:  b\n",
      "b  YA existe en \"organizador\"\n",
      "bici-2.jpg  es coincidencia / El  nombre común se definió como:  b\n",
      "b  YA existe en \"organizador\"\n",
      "BiCi.JPG  es coincidencia / El  nombre común se definió como:  B\n",
      "B  ha sido agregado a \"organizador\"\n",
      "bici_3.jpg  es coincidencia / El  nombre común se definió como:  b\n",
      "b  YA existe en \"organizador\"\n",
      "moto 1.jpeg  es coincidencia / El  nombre común se definió como:  m\n",
      "m  ha sido agregado a \"organizador\"\n",
      "La carpeta  C:\\Users\\pc\\Documents\\Clasificador de nombres\\m  no existía, pero ya fue creada (else)\n",
      "moto+4.jpg  es coincidencia / El  nombre común se definió como:  m\n",
      "m  YA existe en \"organizador\"\n",
      "moto-2.jpg  es coincidencia / El  nombre común se definió como:  m\n",
      "m  YA existe en \"organizador\"\n",
      "moto_3.jpg  es coincidencia / El  nombre común se definió como:  m\n",
      "m  YA existe en \"organizador\"\n",
      "Archivos organizados en carpetas.\n"
     ]
    }
   ],
   "source": [
    "'''(12)\n",
    "casi casi\n",
    "separó algunas \"bicis\" en b y algunas \"motos\" en m\n",
    "peeero \"5 bici\" y \"5 moto\" las dejó en la carpeta 5\n",
    "'''\n",
    "import os\n",
    "import shutil\n",
    "import re\n",
    "\n",
    "# Directorio donde se encuentran los archivos\n",
    "directorio = r\"C:\\Users\\pc\\Documents\\Clasificador de nombres\"\n",
    "\n",
    "# Obtener la lista de archivos en el directorio\n",
    "archivos = os.listdir(directorio)\n",
    "\n",
    "# Crear un diccionario para organizar los archivos por \"nombre común\"\n",
    "organizador = {}\n",
    "\n",
    "# Definir una expresión regular para permitir solo caracteres alfabéticos y algunos especiales\n",
    "patron = r'^[a-zA-ZáéíóúüÁÉÍÓÚÜ0-9_.,;\\/\\- +]'\n",
    "\n",
    "# Iterar sobre la lista de archivos\n",
    "for archivo in archivos:\n",
    "    # Tomar el \"nombre común\" utilizando la expresión regular\n",
    "    coincidencia = re.match(patron, archivo)\n",
    "    if coincidencia:\n",
    "        nombre_comun = re.split(r'[_.;,/\\-]', coincidencia.group())[0]\n",
    "        print (archivo,' es coincidencia / El  nombre común se definió como: ',nombre_comun)\n",
    "        \n",
    "        if nombre_comun in organizador:\n",
    "            print(nombre_comun, ' YA existe en \"organizador\"')\n",
    "            # Verificar si ya existe una carpeta para ese \"nombre común\"\n",
    "            carpeta_path = os.path.join(directorio, nombre_comun)\n",
    "            if not os.path.exists(carpeta_path):\n",
    "                os.makedirs(carpeta_path)\n",
    "                print('La carpeta ',capeta_path, ' no existía, pero ya fue creada')\n",
    "        else:\n",
    "            carpeta_path = os.path.join(directorio, nombre_comun)\n",
    "            organizador[nombre_comun] = True\n",
    "            print(nombre_comun, ' ha sido agregado a \"organizador\"')\n",
    "            if not os.path.exists(carpeta_path):\n",
    "                os.makedirs(carpeta_path)\n",
    "                print('La carpeta ',carpeta_path, ' no existía, pero ya fue creada (else)')\n",
    "        # Copiar el archivo a la carpeta correspondiente\n",
    "        shutil.copy(os.path.join(directorio, archivo), os.path.join(carpeta_path, archivo))\n",
    "        # Eliminar el archivo original\n",
    "        os.remove(os.path.join(directorio, archivo))\n",
    "\n",
    "print(\"Archivos organizados en carpetas.\")\n",
    "\n"
   ]
  },
  {
   "cell_type": "markdown",
   "id": "a97dfbf2",
   "metadata": {},
   "source": [
    "otros detalles"
   ]
  },
  {
   "cell_type": "code",
   "execution_count": 38,
   "id": "4f25381c",
   "metadata": {},
   "outputs": [
    {
     "name": "stdout",
     "output_type": "stream",
     "text": [
      "5 bici.jpeg  es coincidencia / El  nombre común se definió como:  5\n",
      "5  ha sido agregado a \"organizador\"\n",
      "La carpeta  C:\\Users\\pc\\Documents\\Clasificador de nombres\\5  no existía, pero ya fue creada (else)\n",
      "5 moto.jpg  es coincidencia / El  nombre común se definió como:  5\n",
      "5  YA existe en \"organizador\"\n",
      "bici 1.jpg  es coincidencia / El  nombre común se definió como:  bici\n",
      "bici  ha sido agregado a \"organizador\"\n",
      "La carpeta  C:\\Users\\pc\\Documents\\Clasificador de nombres\\bici  no existía, pero ya fue creada (else)\n",
      "bici+4.jpg  es coincidencia / El  nombre común se definió como:  bici\n",
      "bici  YA existe en \"organizador\"\n",
      "bici-2.jpg  es coincidencia / El  nombre común se definió como:  bici\n",
      "bici  YA existe en \"organizador\"\n",
      "BiCi.JPG  es coincidencia / El  nombre común se definió como:  BiCi\n",
      "BiCi  ha sido agregado a \"organizador\"\n",
      "bici_3.jpg  es coincidencia / El  nombre común se definió como:  bici\n",
      "bici  YA existe en \"organizador\"\n",
      "moto 1.jpeg  es coincidencia / El  nombre común se definió como:  moto\n",
      "moto  ha sido agregado a \"organizador\"\n",
      "La carpeta  C:\\Users\\pc\\Documents\\Clasificador de nombres\\moto  no existía, pero ya fue creada (else)\n",
      "moto+4.jpg  es coincidencia / El  nombre común se definió como:  moto\n",
      "moto  YA existe en \"organizador\"\n",
      "moto-2.jpg  es coincidencia / El  nombre común se definió como:  moto\n",
      "moto  YA existe en \"organizador\"\n",
      "moto_3.jpg  es coincidencia / El  nombre común se definió como:  moto\n",
      "moto  YA existe en \"organizador\"\n",
      "Archivos organizados en carpetas.\n"
     ]
    }
   ],
   "source": [
    "'''(14) -- con varios intentos\n",
    "modificando \"patron\" y \"re.split()\" quitando el espacio, arregló lo de los nombres en las carpetas.\n",
    "Esta es la primera prueba relativamente exitosa.\n",
    "\"5 bici\" y \"5 moto\" todavía las deja en la carpeta 5; pero es una mejoría de todas formas\n",
    "\n",
    "Hecho con carpeta pruebas erroneas 1\n",
    "'''\n",
    "import os\n",
    "import shutil\n",
    "import re\n",
    "\n",
    "# Directorio donde se encuentran los archivos\n",
    "directorio = r\"C:\\Users\\pc\\Documents\\Clasificador de nombres\"\n",
    "\n",
    "# Obtener la lista de archivos en el directorio\n",
    "archivos = os.listdir(directorio)\n",
    "\n",
    "# Crear un diccionario para organizar los archivos por \"nombre común\"\n",
    "organizador = {}\n",
    "\n",
    "# Definir una expresión regular para permitir solo caracteres alfabéticos y algunos especiales\n",
    "patron = r'^[a-zA-ZáéíóúüÁÉÍÓÚÜ0-9_.,;\\/\\-+]+'\n",
    "\n",
    "# Iterar sobre la lista de archivos\n",
    "for archivo in archivos:\n",
    "    # Tomar el \"nombre común\" utilizando la expresión regular\n",
    "    coincidencia = re.match(patron, archivo)\n",
    "    if coincidencia:\n",
    "        nombre_comun = re.split(r'[_.;,/\\-+]', coincidencia.group())[0]\n",
    "        print (archivo,' es coincidencia / El  nombre común se definió como: ',nombre_comun)\n",
    "        \n",
    "        if nombre_comun in organizador:\n",
    "            print(nombre_comun, ' YA existe en \"organizador\"')\n",
    "            # Verificar si ya existe una carpeta para ese \"nombre común\"\n",
    "            carpeta_path = os.path.join(directorio, nombre_comun)\n",
    "            if not os.path.exists(carpeta_path):\n",
    "                os.makedirs(carpeta_path)\n",
    "                print('La carpeta ',capeta_path, ' no existía, pero ya fue creada')\n",
    "        else:\n",
    "            carpeta_path = os.path.join(directorio, nombre_comun)\n",
    "            organizador[nombre_comun] = True\n",
    "            print(nombre_comun, ' ha sido agregado a \"organizador\"')\n",
    "            if not os.path.exists(carpeta_path):\n",
    "                os.makedirs(carpeta_path)\n",
    "                print('La carpeta ',carpeta_path, ' no existía, pero ya fue creada (else)')\n",
    "        # Copiar el archivo a la carpeta correspondiente\n",
    "        shutil.copy(os.path.join(directorio, archivo), os.path.join(carpeta_path, archivo))\n",
    "        # Eliminar el archivo original\n",
    "        os.remove(os.path.join(directorio, archivo))\n",
    "\n",
    "print(\"Archivos organizados en carpetas.\")\n",
    "\n"
   ]
  },
  {
   "cell_type": "markdown",
   "id": "87ef9df7",
   "metadata": {},
   "source": [
    "Modificación para cuando no hay delimitadores simbólicos en el nombre del archivo; pero están numerados:"
   ]
  },
  {
   "cell_type": "code",
   "execution_count": 46,
   "id": "e8ddc777",
   "metadata": {},
   "outputs": [
    {
     "name": "stdout",
     "output_type": "stream",
     "text": [
      "bici  es coincidencia / El nombre común se definió como:  bici\n"
     ]
    },
    {
     "ename": "PermissionError",
     "evalue": "[Errno 13] Permission denied: 'C:\\\\Users\\\\pc\\\\Documents\\\\Clasificador de nombres\\\\bici'",
     "output_type": "error",
     "traceback": [
      "\u001b[1;31m---------------------------------------------------------------------------\u001b[0m",
      "\u001b[1;31mPermissionError\u001b[0m                           Traceback (most recent call last)",
      "Cell \u001b[1;32mIn[46], line 43\u001b[0m\n\u001b[0;32m     41\u001b[0m         \u001b[38;5;28mprint\u001b[39m(\u001b[38;5;124m'\u001b[39m\u001b[38;5;124mLa carpeta \u001b[39m\u001b[38;5;124m'\u001b[39m,carpeta_path, \u001b[38;5;124m'\u001b[39m\u001b[38;5;124m no existía, pero ya fue creada (else)\u001b[39m\u001b[38;5;124m'\u001b[39m)\n\u001b[0;32m     42\u001b[0m \u001b[38;5;66;03m# Copiar el archivo a la carpeta correspondiente\u001b[39;00m\n\u001b[1;32m---> 43\u001b[0m \u001b[43mshutil\u001b[49m\u001b[38;5;241;43m.\u001b[39;49m\u001b[43mcopy\u001b[49m\u001b[43m(\u001b[49m\u001b[43mos\u001b[49m\u001b[38;5;241;43m.\u001b[39;49m\u001b[43mpath\u001b[49m\u001b[38;5;241;43m.\u001b[39;49m\u001b[43mjoin\u001b[49m\u001b[43m(\u001b[49m\u001b[43mdirectorio\u001b[49m\u001b[43m,\u001b[49m\u001b[43m \u001b[49m\u001b[43marchivo\u001b[49m\u001b[43m)\u001b[49m\u001b[43m,\u001b[49m\u001b[43m \u001b[49m\u001b[43mos\u001b[49m\u001b[38;5;241;43m.\u001b[39;49m\u001b[43mpath\u001b[49m\u001b[38;5;241;43m.\u001b[39;49m\u001b[43mjoin\u001b[49m\u001b[43m(\u001b[49m\u001b[43mcarpeta_path\u001b[49m\u001b[43m,\u001b[49m\u001b[43m \u001b[49m\u001b[43marchivo\u001b[49m\u001b[43m)\u001b[49m\u001b[43m)\u001b[49m\n\u001b[0;32m     44\u001b[0m \u001b[38;5;66;03m# Eliminar el archivo original\u001b[39;00m\n\u001b[0;32m     45\u001b[0m os\u001b[38;5;241m.\u001b[39mremove(os\u001b[38;5;241m.\u001b[39mpath\u001b[38;5;241m.\u001b[39mjoin(directorio, archivo))\n",
      "File \u001b[1;32m~\\anaconda3\\lib\\shutil.py:417\u001b[0m, in \u001b[0;36mcopy\u001b[1;34m(src, dst, follow_symlinks)\u001b[0m\n\u001b[0;32m    415\u001b[0m \u001b[38;5;28;01mif\u001b[39;00m os\u001b[38;5;241m.\u001b[39mpath\u001b[38;5;241m.\u001b[39misdir(dst):\n\u001b[0;32m    416\u001b[0m     dst \u001b[38;5;241m=\u001b[39m os\u001b[38;5;241m.\u001b[39mpath\u001b[38;5;241m.\u001b[39mjoin(dst, os\u001b[38;5;241m.\u001b[39mpath\u001b[38;5;241m.\u001b[39mbasename(src))\n\u001b[1;32m--> 417\u001b[0m \u001b[43mcopyfile\u001b[49m\u001b[43m(\u001b[49m\u001b[43msrc\u001b[49m\u001b[43m,\u001b[49m\u001b[43m \u001b[49m\u001b[43mdst\u001b[49m\u001b[43m,\u001b[49m\u001b[43m \u001b[49m\u001b[43mfollow_symlinks\u001b[49m\u001b[38;5;241;43m=\u001b[39;49m\u001b[43mfollow_symlinks\u001b[49m\u001b[43m)\u001b[49m\n\u001b[0;32m    418\u001b[0m copymode(src, dst, follow_symlinks\u001b[38;5;241m=\u001b[39mfollow_symlinks)\n\u001b[0;32m    419\u001b[0m \u001b[38;5;28;01mreturn\u001b[39;00m dst\n",
      "File \u001b[1;32m~\\anaconda3\\lib\\shutil.py:254\u001b[0m, in \u001b[0;36mcopyfile\u001b[1;34m(src, dst, follow_symlinks)\u001b[0m\n\u001b[0;32m    252\u001b[0m     os\u001b[38;5;241m.\u001b[39msymlink(os\u001b[38;5;241m.\u001b[39mreadlink(src), dst)\n\u001b[0;32m    253\u001b[0m \u001b[38;5;28;01melse\u001b[39;00m:\n\u001b[1;32m--> 254\u001b[0m     \u001b[38;5;28;01mwith\u001b[39;00m \u001b[38;5;28;43mopen\u001b[39;49m\u001b[43m(\u001b[49m\u001b[43msrc\u001b[49m\u001b[43m,\u001b[49m\u001b[43m \u001b[49m\u001b[38;5;124;43m'\u001b[39;49m\u001b[38;5;124;43mrb\u001b[39;49m\u001b[38;5;124;43m'\u001b[39;49m\u001b[43m)\u001b[49m \u001b[38;5;28;01mas\u001b[39;00m fsrc:\n\u001b[0;32m    255\u001b[0m         \u001b[38;5;28;01mtry\u001b[39;00m:\n\u001b[0;32m    256\u001b[0m             \u001b[38;5;28;01mwith\u001b[39;00m \u001b[38;5;28mopen\u001b[39m(dst, \u001b[38;5;124m'\u001b[39m\u001b[38;5;124mwb\u001b[39m\u001b[38;5;124m'\u001b[39m) \u001b[38;5;28;01mas\u001b[39;00m fdst:\n\u001b[0;32m    257\u001b[0m                 \u001b[38;5;66;03m# macOS\u001b[39;00m\n",
      "\u001b[1;31mPermissionError\u001b[0m: [Errno 13] Permission denied: 'C:\\\\Users\\\\pc\\\\Documents\\\\Clasificador de nombres\\\\bici'"
     ]
    }
   ],
   "source": [
    "'''(15)\n",
    "\"5 bici\" y \"5 moto\" las dejó sueltas y los otros archivos los agrupó correctamente\n",
    "Hecho con carpeta pruebas erroneas 1\n",
    "'''\n",
    "import os\n",
    "import shutil\n",
    "import re\n",
    "\n",
    "directorio = r\"C:\\Users\\pc\\Documents\\Clasificador de nombres\"\n",
    "archivos = os.listdir(directorio)\n",
    "organizador = {}\n",
    "\n",
    "# Definir una expresión regular para permitir solo caracteres alfabéticos y algunos especiales\n",
    "patron = r'^[a-zA-ZáéíóúüÁÉÍÓÚÜ_.,;\\/\\-+]+'\n",
    "\n",
    "for archivo in archivos:\n",
    "    # Validación del nombre del archivo\n",
    "    coincidencia = re.match(patron, archivo)\n",
    "    \n",
    "    if coincidencia:\n",
    "        nombre_comun = re.split(r'[_.;,/\\-+]', coincidencia.group())[0]\n",
    "        \n",
    "        # Si no se encontraron delimitadores, se considera el nombre completo\n",
    "        if nombre_comun == coincidencia.group():\n",
    "            nombre_comun = coincidencia.group()\n",
    "        \n",
    "        print(archivo, ' es coincidencia / El nombre común se definió como: ', nombre_comun)\n",
    "        \n",
    "        if nombre_comun in organizador:\n",
    "            print(nombre_comun, ' YA existe en \"organizador\"')\n",
    "            # Verificar si ya existe una carpeta para ese \"nombre común\"\n",
    "            carpeta_path = os.path.join(directorio, nombre_comun)\n",
    "            if not os.path.exists(carpeta_path):\n",
    "                os.makedirs(carpeta_path)\n",
    "        else:\n",
    "            carpeta_path = os.path.join(directorio, nombre_comun)\n",
    "            organizador[nombre_comun] = True\n",
    "            if not os.path.exists(carpeta_path):\n",
    "                os.makedirs(carpeta_path)\n",
    "        # Copiar el archivo a la carpeta correspondiente\n",
    "        shutil.copy(os.path.join(directorio, archivo), os.path.join(carpeta_path, archivo))\n",
    "        # Eliminar el archivo original\n",
    "        os.remove(os.path.join(directorio, archivo))\n",
    "\n",
    "print(\"Archivos organizados en carpetas.\")\n",
    "\n"
   ]
  },
  {
   "cell_type": "markdown",
   "id": "884006f5",
   "metadata": {},
   "source": [
    "Mi ajuste: para que 5 bici y 5 moto no queden flotantes:"
   ]
  },
  {
   "cell_type": "markdown",
   "id": "cc846d03",
   "metadata": {},
   "source": [
    "los intentos 16 y 17 fueron intentando aislar los casos en los que el nombre del archivo inicie por caracteres diferentes a letras\n",
    "nombre_comun = \"5 bici\"\n",
    "n = 0\n",
    "\n",
    "while n < len(nombre_comun) and not nombre_comun[n].isalpha():\n",
    "    n += 1\n",
    "\n",
    "nombre_comun = nombre_comun[n:]\n",
    "print(nombre_comun)\n"
   ]
  },
  {
   "cell_type": "code",
   "execution_count": 11,
   "id": "0dab9c6d",
   "metadata": {},
   "outputs": [
    {
     "name": "stdout",
     "output_type": "stream",
     "text": [
      "['5 bici.jpeg'] hola\n",
      "['5 bici.jpeg', '5 moto.jpg'] hola\n",
      "bici 1.jpg  es coincidencia / El nombre común se definió como:  bici\n",
      "La carpeta  C:\\Users\\pc\\Documents\\Clasificador de nombres\\bici  acaba de ser creada (else)\n",
      "bici+4.jpg  es coincidencia / El nombre común se definió como:  bici\n",
      "bici  YA existe en \"organizador\"\n",
      "bici-2.jpg  es coincidencia / El nombre común se definió como:  bici\n",
      "bici  YA existe en \"organizador\"\n",
      "BiCi.JPG  es coincidencia / El nombre común se definió como:  BiCi\n",
      "bici1.jpg  es coincidencia / El nombre común se definió como:  bici\n",
      "bici  YA existe en \"organizador\"\n",
      "bici14.jpg  es coincidencia / El nombre común se definió como:  bici\n",
      "bici  YA existe en \"organizador\"\n",
      "bici25.JPG  es coincidencia / El nombre común se definió como:  bici\n",
      "bici  YA existe en \"organizador\"\n",
      "bici_3.jpg  es coincidencia / El nombre común se definió como:  bici\n",
      "bici  YA existe en \"organizador\"\n",
      "moto 1.jpeg  es coincidencia / El nombre común se definió como:  moto\n",
      "La carpeta  C:\\Users\\pc\\Documents\\Clasificador de nombres\\moto  acaba de ser creada (else)\n",
      "moto+4.jpg  es coincidencia / El nombre común se definió como:  moto\n",
      "moto  YA existe en \"organizador\"\n",
      "moto-2.jpg  es coincidencia / El nombre común se definió como:  moto\n",
      "moto  YA existe en \"organizador\"\n",
      "moto10.jpg  es coincidencia / El nombre común se definió como:  moto\n",
      "moto  YA existe en \"organizador\"\n",
      "moto11.jpg  es coincidencia / El nombre común se definió como:  moto\n",
      "moto  YA existe en \"organizador\"\n",
      "moto22.JPG  es coincidencia / El nombre común se definió como:  moto\n",
      "moto  YA existe en \"organizador\"\n",
      "moto23.jpg  es coincidencia / El nombre común se definió como:  moto\n",
      "moto  YA existe en \"organizador\"\n",
      "moto_3.jpg  es coincidencia / El nombre común se definió como:  moto\n",
      "moto  YA existe en \"organizador\"\n",
      "Archivos organizados en carpetas.\n"
     ]
    }
   ],
   "source": [
    "'''(18)\n",
    "\"5 bici\" y \"5 moto\" las dejó sueltas y los otros archivos los agrupó correctamente\n",
    "Hecho con carpeta pruebas erroneas 1\n",
    "'''\n",
    "import os\n",
    "import shutil\n",
    "import re\n",
    "\n",
    "directorio = r\"C:\\Users\\pc\\Documents\\Clasificador de nombres\"\n",
    "archivos = os.listdir(directorio)\n",
    "organizador = {}\n",
    "no_coincidencia = []\n",
    "# Definir una expresión regular para permitir solo caracteres alfabéticos y algunos especiales\n",
    "patron = r'^[a-zA-ZáéíóúüÁÉÍÓÚÜ_.,;\\/\\-+]+'\n",
    "\n",
    "for archivo in archivos:\n",
    "    # Validación del nombre del archivo\n",
    "    coincidencia = re.match(patron, archivo)\n",
    "    \n",
    "    if coincidencia:\n",
    "        nombre_comun = re.split(r'[_.;,/\\-+]', coincidencia.group())[0]\n",
    "        \n",
    "        # Si no se encontraron delimitadores, se considera el nombre completo\n",
    "        if nombre_comun == coincidencia.group():\n",
    "            nombre_comun = coincidencia.group()\n",
    "        \n",
    "        print(archivo, ' es coincidencia / El nombre común se definió como: ', nombre_comun)\n",
    "        \n",
    "        if nombre_comun in organizador:\n",
    "            print(nombre_comun, ' YA existe en \"organizador\"')\n",
    "            # Verificar si ya existe una carpeta para ese \"nombre común\"\n",
    "            carpeta_path = os.path.join(directorio, nombre_comun)\n",
    "            if not os.path.exists(carpeta_path):\n",
    "                os.makedirs(carpeta_path)\n",
    "                print ('La carpeta ', carpeta_path, ' acaba de ser creada')\n",
    "        else:\n",
    "            carpeta_path = os.path.join(directorio, nombre_comun)\n",
    "            organizador[nombre_comun] = True\n",
    "            if not os.path.exists(carpeta_path):\n",
    "                os.makedirs(carpeta_path)\n",
    "                print ('La carpeta ', carpeta_path, ' acaba de ser creada (else)')\n",
    "        # Copiar el archivo a la carpeta correspondiente\n",
    "        shutil.copy(os.path.join(directorio, archivo), os.path.join(carpeta_path, archivo))\n",
    "        # Eliminar el archivo original\n",
    "        os.remove(os.path.join(directorio, archivo))\n",
    "    else:\n",
    "        no_coincidencia.append(archivo)\n",
    "#\n",
    "for archivo in no_coincidencia:\n",
    "    if archivo \n",
    "print(\"Archivos organizados en carpetas.\")\n",
    "\n"
   ]
  },
  {
   "cell_type": "code",
   "execution_count": 10,
   "id": "96d046f8",
   "metadata": {},
   "outputs": [
    {
     "name": "stdout",
     "output_type": "stream",
     "text": [
      "Se copiaron los elementos de 'C:\\Users\\pc\\Documents\\Carpeta copia para pruebas erróneas 2' a 'C:\\Users\\pc\\Documents\\Clasificador de nombres' con éxito.\n"
     ]
    }
   ],
   "source": [
    "import shutil\n",
    "\n",
    "def copiar_contenido_de_carpeta(origen, destino):\n",
    "    try:\n",
    "        # Vaciar la carpeta de destino si ya existe\n",
    "        shutil.rmtree(destino)\n",
    "        \n",
    "        # Copiar el contenido de la carpeta de origen a la carpeta de destino\n",
    "        shutil.copytree(origen, destino)\n",
    "        \n",
    "        print(f\"Se copiaron los elementos de '{origen}' a '{destino}' con éxito.\")\n",
    "    except Exception as e:\n",
    "        print(f\"Error al copiar los elementos: {e}\")\n",
    "\n",
    "if __name__ == \"__main__\":\n",
    "    carpeta_origen = r'C:\\Users\\pc\\Documents\\Carpeta copia para pruebas erróneas 2'\n",
    "    carpeta_destino =  r\"C:\\Users\\pc\\Documents\\Clasificador de nombres\"\n",
    "\n",
    "    copiar_contenido_de_carpeta(carpeta_origen, carpeta_destino)\n"
   ]
  }
 ],
 "metadata": {
  "kernelspec": {
   "display_name": "Python 3 (ipykernel)",
   "language": "python",
   "name": "python3"
  },
  "language_info": {
   "codemirror_mode": {
    "name": "ipython",
    "version": 3
   },
   "file_extension": ".py",
   "mimetype": "text/x-python",
   "name": "python",
   "nbconvert_exporter": "python",
   "pygments_lexer": "ipython3",
   "version": "3.10.9"
  }
 },
 "nbformat": 4,
 "nbformat_minor": 5
}
