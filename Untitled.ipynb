{
 "cells": [
  {
   "cell_type": "markdown",
   "id": "d407887f",
   "metadata": {},
   "source": [
    "# Vaciar B - Copiar A en B"
   ]
  },
  {
   "cell_type": "code",
   "execution_count": 4,
   "id": "41e84226",
   "metadata": {},
   "outputs": [
    {
     "ename": "SyntaxError",
     "evalue": "unterminated string literal (detected at line 14) (3649081113.py, line 14)",
     "output_type": "error",
     "traceback": [
      "\u001b[1;36m  Cell \u001b[1;32mIn[4], line 14\u001b[1;36m\u001b[0m\n\u001b[1;33m    print(\"Se copiaron los elementos de '{origen}'\u001b[0m\n\u001b[1;37m          ^\u001b[0m\n\u001b[1;31mSyntaxError\u001b[0m\u001b[1;31m:\u001b[0m unterminated string literal (detected at line 14)\n"
     ]
    }
   ],
   "source": [
    "'''(2)'''\n",
    "import shutil\n",
    "\n",
    "def copiar_contenido_de_carpeta(origen, destino):\n",
    "    try:\n",
    "        # Vaciar la carpeta de destino si ya existe\n",
    "        shutil.rmtree(destino)\n",
    "        \n",
    "        # Copiar el contenido de la carpeta de origen \n",
    "        # a la carpeta de destino\n",
    "        shutil.copytree(origen, destino)\n",
    "        \n",
    "        print(f\"Se copiaron los elementos de '{origen}' \n",
    "              a '{destino}' con éxito.\")\n",
    "    except Exception as e:\n",
    "        print(f\"Error al copiar los elementos: {e}\")\n",
    "\n",
    "if __name__ == \"__main__\":\n",
    "    carpeta_origen = \n",
    "              r'C:\\Users\\pc\\Documents\\Carpeta copia para pruebas erróneas'\n",
    "    carpeta_destino =  \n",
    "              r\"C:\\Users\\pc\\Documents\\Clasificador de nombres\"\n",
    "\n",
    "    copiar_contenido_de_carpeta(carpeta_origen, carpeta_destino)\n"
   ]
  },
  {
   "cell_type": "code",
   "execution_count": 5,
   "id": "986dd85a",
   "metadata": {},
   "outputs": [
    {
     "name": "stdout",
     "output_type": "stream",
     "text": [
      "Se copiaron los elementos de 'C:\\Users\\pc\\Documents\\Carpeta copia para pruebas erróneas 2' a 'C:\\Users\\pc\\Documents\\Clasificador de nombres' con éxito.\n"
     ]
    }
   ],
   "source": [
    "'''(11 - v2 de uno especifico)\n",
    "Es como separar por singletones jajaja'''\n",
    "import os\n",
    "import shutil\n",
    "import re\n",
    "\n",
    "# Directorio donde se encuentran los archivos\n",
    "directorio = r\"C:\\Users\\pc\\Documents\\Clasificador de nombres\"\n",
    "\n",
    "# Obtener la lista de archivos en el directorio\n",
    "archivos = os.listdir(directorio)\n",
    "\n",
    "# Crear un diccionario para organizar los archivos por \"nombre común\"\n",
    "organizador = {}\n",
    "\n",
    "# Definir una expresión regular para permitir solo caracteres \n",
    "#alfabéticos y algunos especiales\n",
    "patron = r'^[a-zA-ZáéíóúüÁÉÍÓÚÜ0-9_.,;\\/\\- +]'\n",
    "\n",
    "# Iterar sobre la lista de archivos\n",
    "for archivo in archivos:\n",
    "    # Tomar el \"nombre común\" utilizando la expresión regular\n",
    "    coincidencia = re.match(patron, archivo)\n",
    "    if coincidencia:\n",
    "        nombre_comun = re.split(r'[_.;,/\\-]', coincidencia.group())[0]        \n",
    "        # Verificar si ya existe una carpeta para ese \"nombre común\"\n",
    "        if nombre_comun in organizador:\n",
    "            contador = 1\n",
    "            carpeta_path = \n",
    "            os.path.join(directorio, f\"{nombre_comun}_{contador}\")\n",
    "            while os.path.exists(carpeta_path):\n",
    "                contador += 1\n",
    "                carpeta_path = \n",
    "                os.path.join(directorio, f\"{nombre_comun}_{contador}\")\n",
    "        else:\n",
    "            carpeta_path = os.path.join(directorio, nombre_comun)\n",
    "            organizador[nombre_comun] = True\n",
    "            \n",
    "        # Verificar si la carpeta ya existe antes de crearla\n",
    "        if not os.path.exists(carpeta_path):\n",
    "            os.makedirs(carpeta_path)\n",
    "        \n",
    "        # Copiar el archivo a la carpeta correspondiente\n",
    "        shutil.copy(os.path.join(directorio, archivo), \n",
    "                    os.path.join(carpeta_path, archivo))\n",
    "        \n",
    "        # Eliminar el archivo original\n",
    "        os.remove(os.path.join(directorio, archivo))\n",
    "\n",
    "print(\"Archivos organizados en carpetas.\")\n",
    "\n",
    "    copiar_contenido_de_carpeta(carpeta_origen, carpeta_destino)"
   ]
  },
  {
   "cell_type": "code",
   "execution_count": 7,
   "id": "2edeadc1",
   "metadata": {},
   "outputs": [
    {
     "name": "stdout",
     "output_type": "stream",
     "text": [
      "Archivos organizados en carpetas.\n"
     ]
    }
   ],
   "source": [
    "'''(11 - v2 de uno especifico)\n",
    "Es como separar por singletones jajaja'''\n",
    "import os\n",
    "import shutil\n",
    "import re\n",
    "\n",
    "# Directorio donde se encuentran los archivos\n",
    "directorio = r\"C:\\Users\\pc\\Documents\\Clasificador de nombres\"\n",
    "\n",
    "# Obtener la lista de archivos en el directorio\n",
    "archivos = os.listdir(directorio)\n",
    "\n",
    "# Crear un diccionario para organizar los archivos por \"nombre común\"\n",
    "organizador = {}\n",
    "\n",
    "# Definir una expresión regular para permitir solo caracteres alfabéticos y algunos especiales\n",
    "patron = r'^[a-zA-ZáéíóúüÁÉÍÓÚÜ0-9_.,;\\/\\- +]'\n",
    "\n",
    "# Iterar sobre la lista de archivos\n",
    "for archivo in archivos:\n",
    "    # Tomar el \"nombre común\" utilizando la expresión regular\n",
    "    coincidencia = re.match(patron, archivo)\n",
    "    if coincidencia:\n",
    "        nombre_comun = re.split(r'[_.;,/\\-]', coincidencia.group())[0]        \n",
    "        # Verificar si ya existe una carpeta para ese \"nombre común\"\n",
    "        if nombre_comun in organizador:\n",
    "            contador = 1\n",
    "            carpeta_path = os.path.join(directorio, f\"{nombre_comun}_{contador}\")\n",
    "            while os.path.exists(carpeta_path):\n",
    "                contador += 1\n",
    "                carpeta_path = os.path.join(directorio, f\"{nombre_comun}_{contador}\")\n",
    "        else:\n",
    "            carpeta_path = os.path.join(directorio, nombre_comun)\n",
    "            organizador[nombre_comun] = True\n",
    "            \n",
    "        # Verificar si la carpeta ya existe antes de crearla\n",
    "        if not os.path.exists(carpeta_path):\n",
    "            os.makedirs(carpeta_path)\n",
    "        \n",
    "        # Copiar el archivo a la carpeta correspondiente\n",
    "        shutil.copy(os.path.join(directorio, archivo), os.path.join(carpeta_path, archivo))\n",
    "        \n",
    "        # Eliminar el archivo original\n",
    "        os.remove(os.path.join(directorio, archivo))\n",
    "\n",
    "print(\"Archivos organizados en carpetas.\")"
   ]
  },
  {
   "cell_type": "code",
   "execution_count": 8,
   "id": "9b348f8a",
   "metadata": {},
   "outputs": [
    {
     "name": "stdout",
     "output_type": "stream",
     "text": [
      "Ingrese la ruta de la carpeta principal: C:\\Users\\pc\\Documents\\Clasificador de nombres\n",
      "Se extrajo y eliminó el contenido de las subcarpetas en 'C:\\Users\\pc\\Documents\\Clasificador de nombres' con éxito.\n"
     ]
    }
   ],
   "source": [
    "'''(1)\n",
    "Extraer subcarpetas\n",
    "'''\n",
    "import os\n",
    "import shutil\n",
    "\n",
    "def extraer_y_eliminar_subcarpetas(carpeta_principal):\n",
    "    try:\n",
    "        # Listar todas las subcarpetas en la carpeta principal\n",
    "        subcarpetas = [f.path for f in os.scandir(carpeta_principal) if f.is_dir()]\n",
    "\n",
    "        # Extraer el contenido de cada subcarpeta a la carpeta principal\n",
    "        for subcarpeta in subcarpetas:\n",
    "            # Mover cada archivo de la subcarpeta a la carpeta principal\n",
    "            for elemento in os.listdir(subcarpeta):\n",
    "                origen = os.path.join(subcarpeta, elemento)\n",
    "                destino = os.path.join(carpeta_principal, elemento)\n",
    "                shutil.move(origen, destino)\n",
    "\n",
    "            # Eliminar la subcarpeta vacía\n",
    "            os.rmdir(subcarpeta)\n",
    "\n",
    "        print(f\"Se extrajo y eliminó el contenido de las subcarpetas en '{carpeta_principal}' con éxito.\")\n",
    "    except Exception as e:\n",
    "        print(f\"Error al extraer y eliminar subcarpetas: {e}\")\n",
    "\n",
    "if __name__ == \"__main__\":\n",
    "    carpeta_principal = input(\"Ingrese la ruta de la carpeta principal: \")\n",
    "\n",
    "    extraer_y_eliminar_subcarpetas(carpeta_principal)\n"
   ]
  },
  {
   "cell_type": "code",
   "execution_count": 10,
   "id": "81bc3f14",
   "metadata": {},
   "outputs": [
    {
     "name": "stdout",
     "output_type": "stream",
     "text": [
      "Cadena original: moto 11\n",
      "Subcadenas posibles: ['m', 'mo', 'mot', 'moto', 'moto ', 'moto 1', 'moto 11', 'o', 'ot', 'oto', 'oto ', 'oto 1', 'oto 11', 't', 'to', 'to ', 'to 1', 'to 11', 'o', 'o ', 'o 1', 'o 11', ' ', ' 1', ' 11', '1', '11', '1'] que tiene  28 elementos\n"
     ]
    }
   ],
   "source": [
    "def obtener_subcadenas(cadena):\n",
    "    subcadenas = []\n",
    "    n = len(cadena)\n",
    "\n",
    "    for i in range(n):\n",
    "        for j in range(i + 1, n + 1):\n",
    "            subcadenas.append(cadena[i:j])\n",
    "\n",
    "    return subcadenas\n",
    "\n",
    "# Ejemplo de uso:\n",
    "mi_cadena = \"moto 11\"\n",
    "resultado = obtener_subcadenas(mi_cadena)\n",
    "\n",
    "print(\"Cadena original:\", mi_cadena)\n",
    "print(\"Subcadenas posibles:\", resultado, \"que tiene \",len(resultado),\"elementos\")\n"
   ]
  }
 ],
 "metadata": {
  "kernelspec": {
   "display_name": "Python 3 (ipykernel)",
   "language": "python",
   "name": "python3"
  },
  "language_info": {
   "codemirror_mode": {
    "name": "ipython",
    "version": 3
   },
   "file_extension": ".py",
   "mimetype": "text/x-python",
   "name": "python",
   "nbconvert_exporter": "python",
   "pygments_lexer": "ipython3",
   "version": "3.10.9"
  }
 },
 "nbformat": 4,
 "nbformat_minor": 5
}
